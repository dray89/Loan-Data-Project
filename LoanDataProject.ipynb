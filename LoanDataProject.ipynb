{
 "cells": [
  {
   "cell_type": "code",
   "execution_count": 1,
   "metadata": {},
   "outputs": [],
   "source": [
    "import pandas as pd\n",
    "from sqlalchemy import create_engine\n",
    "import os\n",
    "import matplotlib.pyplot as plt\n",
    "%reload_ext sql"
   ]
  },
  {
   "cell_type": "code",
   "execution_count": 5,
   "metadata": {},
   "outputs": [
    {
     "name": "stderr",
     "output_type": "stream",
     "text": [
      "C:\\Users\\rayde\\Anaconda3\\lib\\site-packages\\ipykernel_launcher.py:1: FutureWarning: Your version of xlrd is 1.2.0. In xlrd >= 2.0, only the xls format is supported. As a result, the openpyxl engine will be used if it is installed and the engine argument is not specified. Install openpyxl instead.\n",
      "  \"\"\"Entry point for launching an IPython kernel.\n"
     ]
    }
   ],
   "source": [
    "data = pd.read_excel(\"loandataproject.xlsx\", sheet_name='Data')"
   ]
  },
  {
   "cell_type": "code",
   "execution_count": 6,
   "metadata": {},
   "outputs": [
    {
     "data": {
      "text/plain": [
       "Index(['LOAN_NUMBER', 'SAMPLE_DATE', 'FILE_REQ_DATE', 'SECOND_REQUEST_DATE',\n",
       "       'SENT_TO_IMAGING_DATE', 'LENDER_RESPONSE_DUE_DATE',\n",
       "       'DATE_LOAN_FINALIZED', 'LENDER_ID', 'LENDER_NAME', 'LENDER_LOAN_ID',\n",
       "       'PROP_STATE', 'NEW_CONSTRUCTION_INDICATOR', 'CONDOMINIUM_INDICATOR',\n",
       "       'LOAN_ORIG_DATE', 'CURRENT_BALANCE', 'FICO_SCORE', 'LTV', 'ORIG_VALUE',\n",
       "       'AVM_VALUE', 'FIELD_REVIEW_VALUE_SUPPORTED', 'FIELD_REVIEW_VALUE',\n",
       "       'PURPOSE_CODE', 'OCCUPANCY_CODE', 'LENDER_INST_TYPE_DESCRIPTION',\n",
       "       'UNDERWRITER_NAME', 'REVIEW_DATE', 'REVIEW_STATUS', 'DEAL_NAME',\n",
       "       'START_DATE'],\n",
       "      dtype='object')"
      ]
     },
     "execution_count": 6,
     "metadata": {},
     "output_type": "execute_result"
    }
   ],
   "source": [
    "data.columns"
   ]
  },
  {
   "cell_type": "code",
   "execution_count": 7,
   "metadata": {},
   "outputs": [
    {
     "data": {
      "text/plain": [
       "array(['Bank Owned Mortgage Company - National',\n",
       "       'Mortgage Banker - Bank Owned', 'Mortgage Banker - (Large)',\n",
       "       'Credit Unions', 'Community Banks'], dtype=object)"
      ]
     },
     "execution_count": 7,
     "metadata": {},
     "output_type": "execute_result"
    }
   ],
   "source": [
    "data['LENDER_INST_TYPE_DESCRIPTION'].unique()"
   ]
  },
  {
   "cell_type": "code",
   "execution_count": 8,
   "metadata": {},
   "outputs": [],
   "source": [
    "engine = create_engine('sqlite:///loandata.sql', echo=False)\n",
    "data.to_sql('loandata', con=engine, if_exists='replace')\n",
    "os.environ[\"DATABASE_URL\"]='sqlite:///loandata.sql'"
   ]
  },
  {
   "cell_type": "markdown",
   "metadata": {},
   "source": [
    "Data by Lender Institution Type: Average, Maximum, Minimum of Current Balance and the total loan count"
   ]
  },
  {
   "cell_type": "code",
   "execution_count": 9,
   "metadata": {},
   "outputs": [
    {
     "name": "stdout",
     "output_type": "stream",
     "text": [
      "Done.\n"
     ]
    },
    {
     "data": {
      "text/html": [
       "<table>\n",
       "    <tr>\n",
       "        <th>LENDER_INST_TYPE_DESCRIPTION</th>\n",
       "        <th>COUNT</th>\n",
       "        <th>AVG_CURRENT_BALANCE</th>\n",
       "        <th>MAX_CURRENT_BALANCE</th>\n",
       "        <th>MIN_CURRENT_BALANCE</th>\n",
       "    </tr>\n",
       "    <tr>\n",
       "        <td>Bank Owned Mortgage Company - National</td>\n",
       "        <td>187</td>\n",
       "        <td>242899.80213903743</td>\n",
       "        <td>720000</td>\n",
       "        <td>43225</td>\n",
       "    </tr>\n",
       "    <tr>\n",
       "        <td>Community Banks</td>\n",
       "        <td>499</td>\n",
       "        <td>211839.96392785572</td>\n",
       "        <td>729750</td>\n",
       "        <td>28500</td>\n",
       "    </tr>\n",
       "    <tr>\n",
       "        <td>Credit Unions</td>\n",
       "        <td>374</td>\n",
       "        <td>175149.60160427808</td>\n",
       "        <td>578250</td>\n",
       "        <td>22500</td>\n",
       "    </tr>\n",
       "    <tr>\n",
       "        <td>Mortgage Banker - (Large)</td>\n",
       "        <td>279</td>\n",
       "        <td>260374.3835125448</td>\n",
       "        <td>729750</td>\n",
       "        <td>59000</td>\n",
       "    </tr>\n",
       "    <tr>\n",
       "        <td>Mortgage Banker - Bank Owned</td>\n",
       "        <td>661</td>\n",
       "        <td>236262.68986384265</td>\n",
       "        <td>625500</td>\n",
       "        <td>25018</td>\n",
       "    </tr>\n",
       "    <tr>\n",
       "        <td>Total</td>\n",
       "        <td>2000</td>\n",
       "        <td>242899.80213903743</td>\n",
       "        <td>720000</td>\n",
       "        <td>43225</td>\n",
       "    </tr>\n",
       "</table>"
      ],
      "text/plain": [
       "[('Bank Owned Mortgage Company - National', 187, 242899.80213903743, 720000, 43225),\n",
       " ('Community Banks', 499, 211839.96392785572, 729750, 28500),\n",
       " ('Credit Unions', 374, 175149.60160427808, 578250, 22500),\n",
       " ('Mortgage Banker - (Large)', 279, 260374.3835125448, 729750, 59000),\n",
       " ('Mortgage Banker - Bank Owned', 661, 236262.68986384265, 625500, 25018),\n",
       " ('Total', 2000, 242899.80213903743, 720000, 43225)]"
      ]
     },
     "execution_count": 9,
     "metadata": {},
     "output_type": "execute_result"
    }
   ],
   "source": [
    "%%sql\n",
    "WITH cte AS (\n",
    "SELECT DISTINCT LENDER_INST_TYPE_DESCRIPTION, COUNT(LOAN_NUMBER) OVER(PARTITION BY LENDER_INST_TYPE_DESCRIPTION) AS COUNT,\n",
    "        AVG(CURRENT_BALANCE) OVER(PARTITION BY LENDER_INST_TYPE_DESCRIPTION) AS AVG_CURRENT_BALANCE,\n",
    "        MAX(CURRENT_BALANCE) OVER(PARTITION BY LENDER_INST_TYPE_DESCRIPTION) AS MAX_CURRENT_BALANCE,\n",
    "        MIN(CURRENT_BALANCE) OVER(PARTITION BY LENDER_INST_TYPE_DESCRIPTION) AS MIN_CURRENT_BALANCE\n",
    "FROM loandata )\n",
    "\n",
    "SELECT *\n",
    "FROM cte\n",
    "UNION ALL \n",
    "SELECT \"Total\", SUM(COUNT), AVG_CURRENT_BALANCE, MAX_CURRENT_BALANCE, MIN_CURRENT_BALANCE\n",
    "FROM cte"
   ]
  },
  {
   "cell_type": "markdown",
   "metadata": {},
   "source": [
    "REPORT 2: Data by LTV (Loan to Value) Cohorts: Average, Maximum, and Minimum Current Balance"
   ]
  },
  {
   "cell_type": "code",
   "execution_count": 10,
   "metadata": {},
   "outputs": [
    {
     "name": "stdout",
     "output_type": "stream",
     "text": [
      " * sqlite:///loandata.sql\n",
      "Done.\n"
     ]
    },
    {
     "data": {
      "text/html": [
       "<table>\n",
       "    <tr>\n",
       "        <th>LOAN_TO_VALUE_COHORTS</th>\n",
       "        <th>COUNT</th>\n",
       "        <th>AVG_CURRENT_BALANCE</th>\n",
       "        <th>MAX_CURRENT_BALANCE</th>\n",
       "        <th>MIN_CURRENT_BALANCE</th>\n",
       "    </tr>\n",
       "    <tr>\n",
       "        <td>&lt;=85%</td>\n",
       "        <td>344</td>\n",
       "        <td>223985.91279069768</td>\n",
       "        <td>729750</td>\n",
       "        <td>43300</td>\n",
       "    </tr>\n",
       "    <tr>\n",
       "        <td>&gt;85% and &lt;=90%</td>\n",
       "        <td>823</td>\n",
       "        <td>235966.17861482382</td>\n",
       "        <td>729750</td>\n",
       "        <td>22500</td>\n",
       "    </tr>\n",
       "    <tr>\n",
       "        <td>&gt;90% and &lt;=95%</td>\n",
       "        <td>796</td>\n",
       "        <td>209504.33542713567</td>\n",
       "        <td>561700</td>\n",
       "        <td>28500</td>\n",
       "    </tr>\n",
       "    <tr>\n",
       "        <td>&gt;95%</td>\n",
       "        <td>37</td>\n",
       "        <td>200910.1891891892</td>\n",
       "        <td>371510</td>\n",
       "        <td>65475</td>\n",
       "    </tr>\n",
       "    <tr>\n",
       "        <td>Total</td>\n",
       "        <td>2000</td>\n",
       "        <td>223985.91279069768</td>\n",
       "        <td>729750</td>\n",
       "        <td>43300</td>\n",
       "    </tr>\n",
       "</table>"
      ],
      "text/plain": [
       "[('<=85%', 344, 223985.91279069768, 729750, 43300),\n",
       " ('>85% and <=90%', 823, 235966.17861482382, 729750, 22500),\n",
       " ('>90% and <=95%', 796, 209504.33542713567, 561700, 28500),\n",
       " ('>95%', 37, 200910.1891891892, 371510, 65475),\n",
       " ('Total', 2000, 223985.91279069768, 729750, 43300)]"
      ]
     },
     "execution_count": 10,
     "metadata": {},
     "output_type": "execute_result"
    }
   ],
   "source": [
    "%%sql\n",
    "WITH cohorts AS (\n",
    "SELECT CASE WHEN LTV <= 85 THEN '<=85%'\n",
    "            WHEN LTV >85 AND LTV <=90 THEN '>85% and <=90%'\n",
    "            WHEN LTV >90 AND LTV <=95 THEN '>90% and <=95%'\n",
    "            WHEN LTV >95 THEN '>95%'\n",
    "            ELSE NULL END LOAN_TO_VALUE_COHORTS,\n",
    "       LOAN_NUMBER, CURRENT_BALANCE\n",
    "FROM loandata),\n",
    "\n",
    "    aggregations AS (\n",
    "SELECT DISTINCT LOAN_TO_VALUE_COHORTS, COUNT(LOAN_NUMBER) OVER(PARTITION BY LOAN_TO_VALUE_COHORTS) AS COUNT,\n",
    "        AVG(CURRENT_BALANCE) OVER(PARTITION BY LOAN_TO_VALUE_COHORTS) AS AVG_CURRENT_BALANCE, \n",
    "        MAX(CURRENT_BALANCE) OVER(PARTITION BY LOAN_TO_VALUE_COHORTS) AS MAX_CURRENT_BALANCE, \n",
    "        MIN(CURRENT_BALANCE) OVER(PARTITION BY LOAN_TO_VALUE_COHORTS) AS MIN_CURRENT_BALANCE\n",
    "FROM cohorts \n",
    "WHERE LOAN_TO_VALUE_COHORTS IS NOT NULL)\n",
    "\n",
    "SELECT * \n",
    "FROM aggregations\n",
    "UNION ALL \n",
    "SELECT 'Total', SUM(COUNT), AVG_CURRENT_BALANCE, MAX_CURRENT_BALANCE,\n",
    "    MIN_CURRENT_BALANCE\n",
    "FROM aggregations\n",
    "            "
   ]
  },
  {
   "cell_type": "markdown",
   "metadata": {},
   "source": [
    "REPORT 3: Data by Loan Age Cohort (Loan Age = 6/1/2013 minus LOAN_ORIG_DATE in months): Average, Maximum, and Minimum Current Balance"
   ]
  },
  {
   "cell_type": "code",
   "execution_count": 11,
   "metadata": {},
   "outputs": [
    {
     "name": "stdout",
     "output_type": "stream",
     "text": [
      " * sqlite:///loandata.sql\n",
      "Done.\n"
     ]
    },
    {
     "data": {
      "text/html": [
       "<table>\n",
       "    <tr>\n",
       "        <th>loan_age_cohorts</th>\n",
       "        <th>COUNT</th>\n",
       "        <th>AVG_CURRENT_BALANCE</th>\n",
       "        <th>MAX_CURRENT_BALANCE</th>\n",
       "        <th>MIN_CURRENT_BALANCE</th>\n",
       "    </tr>\n",
       "    <tr>\n",
       "        <td>0 - 9 Months</td>\n",
       "        <td>316</td>\n",
       "        <td>234278.21202531646</td>\n",
       "        <td>562500</td>\n",
       "        <td>45000</td>\n",
       "    </tr>\n",
       "    <tr>\n",
       "        <td>10 - 19 Months</td>\n",
       "        <td>729</td>\n",
       "        <td>229097.61179698218</td>\n",
       "        <td>720000</td>\n",
       "        <td>25018</td>\n",
       "    </tr>\n",
       "    <tr>\n",
       "        <td>20 - 29 Months</td>\n",
       "        <td>522</td>\n",
       "        <td>212228.40421455938</td>\n",
       "        <td>729750</td>\n",
       "        <td>22500</td>\n",
       "    </tr>\n",
       "    <tr>\n",
       "        <td>30 - 39 Months</td>\n",
       "        <td>243</td>\n",
       "        <td>206224.48971193415</td>\n",
       "        <td>546376</td>\n",
       "        <td>41705</td>\n",
       "    </tr>\n",
       "    <tr>\n",
       "        <td>&gt;=40 Months</td>\n",
       "        <td>174</td>\n",
       "        <td>226481.55172413794</td>\n",
       "        <td>729750</td>\n",
       "        <td>35000</td>\n",
       "    </tr>\n",
       "    <tr>\n",
       "        <td>Unknown</td>\n",
       "        <td>16</td>\n",
       "        <td>256425.3125</td>\n",
       "        <td>404700</td>\n",
       "        <td>88065</td>\n",
       "    </tr>\n",
       "    <tr>\n",
       "        <td>Total</td>\n",
       "        <td>2000</td>\n",
       "        <td>234278.21202531646</td>\n",
       "        <td>562500</td>\n",
       "        <td>45000</td>\n",
       "    </tr>\n",
       "</table>"
      ],
      "text/plain": [
       "[('0 - 9 Months', 316, 234278.21202531646, 562500, 45000),\n",
       " ('10 - 19 Months', 729, 229097.61179698218, 720000, 25018),\n",
       " ('20 - 29 Months', 522, 212228.40421455938, 729750, 22500),\n",
       " ('30 - 39 Months', 243, 206224.48971193415, 546376, 41705),\n",
       " ('>=40 Months', 174, 226481.55172413794, 729750, 35000),\n",
       " ('Unknown', 16, 256425.3125, 404700, 88065),\n",
       " ('Total', 2000, 234278.21202531646, 562500, 45000)]"
      ]
     },
     "execution_count": 11,
     "metadata": {},
     "output_type": "execute_result"
    }
   ],
   "source": [
    "%%sql\n",
    "WITH loan_age AS (\n",
    "SELECT LOAN_NUMBER, CURRENT_BALANCE, ((julianday('2013-06-01')-julianday(LOAN_ORIG_DATE))/(365/12)) AS LOAN_AGE\n",
    "FROM loandata ),\n",
    "\n",
    "    loan_age_cohorts AS (\n",
    "        SELECT CASE WHEN LOAN_AGE >=0 AND LOAN_AGE <10 THEN '0 - 9 Months'\n",
    "                    WHEN LOAN_AGE >=10 AND LOAN_AGE <20 THEN '10 - 19 Months'\n",
    "                    WHEN LOAN_AGE >=20 AND LOAN_AGE <30 THEN '20 - 29 Months'\n",
    "                    WHEN LOAN_AGE >=30 AND LOAN_AGE <40 THEN '30 - 39 Months'\n",
    "                    WHEN LOAN_AGE >=40 THEN '>=40 Months'\n",
    "                    ELSE 'Unknown' END loan_age_cohorts,\n",
    "            LOAN_NUMBER, CURRENT_BALANCE, LOAN_AGE\n",
    "    FROM loan_age\n",
    "    ),\n",
    "    aggregations AS (\n",
    "SELECT DISTINCT loan_age_cohorts, COUNT(LOAN_NUMBER) OVER(PARTITION BY loan_age_cohorts) AS COUNT,\n",
    "                                  AVG(CURRENT_BALANCE) OVER(PARTITION BY loan_age_cohorts) AS AVG_CURRENT_BALANCE, \n",
    "                                    MAX(CURRENT_BALANCE) OVER(PARTITION BY loan_age_cohorts) AS MAX_CURRENT_BALANCE,\n",
    "                                    MIN(CURRENT_BALANCE) OVER(PARTITION BY loan_age_cohorts) AS MIN_CURRENT_BALANCE\n",
    "            FROM loan_age_cohorts)\n",
    "SELECT * \n",
    "FROM aggregations        \n",
    "\n",
    "Union ALL\n",
    "\n",
    "SELECT 'Total', SUM(COUNT), AVG_CURRENT_BALANCE, MAX_CURRENT_BALANCE, MIN_CURRENT_BALANCE\n",
    "FROM aggregations"
   ]
  },
  {
   "cell_type": "markdown",
   "metadata": {},
   "source": [
    "REPORT 4: Create a Crosstab Report- SUM of CURRENT_UPB by LTV Cohorts and FICO Cohorts"
   ]
  },
  {
   "cell_type": "code",
   "execution_count": 12,
   "metadata": {},
   "outputs": [
    {
     "name": "stdout",
     "output_type": "stream",
     "text": [
      " * sqlite:///loandata.sql\n",
      "Done.\n"
     ]
    },
    {
     "data": {
      "text/html": [
       "<table>\n",
       "    <tr>\n",
       "        <th>FICO_COHORT</th>\n",
       "        <th>&lt;=85</th>\n",
       "        <th>&gt;85% and &lt;=90%</th>\n",
       "        <th>&gt;90% and &lt;=95%</th>\n",
       "        <th>&gt;95%</th>\n",
       "    </tr>\n",
       "    <tr>\n",
       "        <td>0 - 600</td>\n",
       "        <td>0</td>\n",
       "        <td>247050</td>\n",
       "        <td>0</td>\n",
       "        <td>0</td>\n",
       "    </tr>\n",
       "    <tr>\n",
       "        <td>600-699</td>\n",
       "        <td>3260490</td>\n",
       "        <td>14606019</td>\n",
       "        <td>14598016</td>\n",
       "        <td>629990</td>\n",
       "    </tr>\n",
       "    <tr>\n",
       "        <td>700-799</td>\n",
       "        <td>60413630</td>\n",
       "        <td>149979009</td>\n",
       "        <td>135188314</td>\n",
       "        <td>5359114</td>\n",
       "    </tr>\n",
       "    <tr>\n",
       "        <td>800+</td>\n",
       "        <td>13377034</td>\n",
       "        <td>29368087</td>\n",
       "        <td>16979121</td>\n",
       "        <td>1444573</td>\n",
       "    </tr>\n",
       "</table>"
      ],
      "text/plain": [
       "[('0 - 600', 0, 247050, 0, 0),\n",
       " ('600-699', 3260490, 14606019, 14598016, 629990),\n",
       " ('700-799', 60413630, 149979009, 135188314, 5359114),\n",
       " ('800+', 13377034, 29368087, 16979121, 1444573)]"
      ]
     },
     "execution_count": 12,
     "metadata": {},
     "output_type": "execute_result"
    }
   ],
   "source": [
    "%%sql\n",
    "WITH FICO_COHORT AS (\n",
    "    SELECT LTV, CURRENT_BALANCE,CASE WHEN FICO_SCORE < 600 THEN '0 - 600'\n",
    "                    WHEN FICO_SCORE >=600 AND FICO_SCORE <700 THEN '600-699'\n",
    "                    WHEN FICO_SCORE >=700 AND FICO_SCORE <800 THEN '700-799'\n",
    "                    WHEN FICO_SCORE >=800 THEN '800+'\n",
    "                    ELSE 'Unknown' END FICO_COHORT\n",
    "FROM loandata\n",
    ")\n",
    "SELECT FICO_COHORT,  \n",
    "            SUM(CASE WHEN LTV <= 85 THEN \n",
    "                    CURRENT_BALANCE ELSE 0 END) \"<=85\", \n",
    "            SUM(CASE WHEN LTV >85 AND LTV <=90 THEN \n",
    "                    CURRENT_BALANCE ELSE 0 END) \">85% and <=90%\", \n",
    "            SUM(CASE WHEN LTV >90 AND LTV <=95 THEN \n",
    "                    CURRENT_BALANCE  ELSE 0 END) \">90% and <=95%\", \n",
    "            SUM(CASE WHEN LTV >95 THEN \n",
    "                   CURRENT_BALANCE ELSE 0 END) \">95%\"\n",
    " \n",
    "FROM FICO_COHORT\n",
    "GROUP BY FICO_COHORT\n"
   ]
  },
  {
   "cell_type": "code",
   "execution_count": 14,
   "metadata": {},
   "outputs": [],
   "source": [
    "sql_query = '''\n",
    "\n",
    "WITH FICO_COHORT AS (\n",
    "    SELECT LTV, CURRENT_BALANCE,CASE WHEN FICO_SCORE < 600 THEN '0 - 600'\n",
    "                    WHEN FICO_SCORE >=600 AND FICO_SCORE <700 THEN '600-699'\n",
    "                    WHEN FICO_SCORE >=700 AND FICO_SCORE <800 THEN '700-799'\n",
    "                    WHEN FICO_SCORE >=800 THEN '800+'\n",
    "                    ELSE 'Unknown' END FICO_COHORT\n",
    "FROM loandata\n",
    ")\n",
    "SELECT FICO_COHORT,  \n",
    "            SUM(CASE WHEN LTV <= 85 THEN \n",
    "                    CURRENT_BALANCE ELSE 0 END) \"<=85\", \n",
    "            SUM(CASE WHEN LTV >85 AND LTV <=90 THEN \n",
    "                    CURRENT_BALANCE ELSE 0 END) \">85% and <=90%\", \n",
    "            SUM(CASE WHEN LTV >90 AND LTV <=95 THEN \n",
    "                    CURRENT_BALANCE  ELSE 0 END) \">90% and <=95%\", \n",
    "            SUM(CASE WHEN LTV >95 THEN \n",
    "                   CURRENT_BALANCE ELSE 0 END) \">95%\"\n",
    " \n",
    "FROM FICO_COHORT\n",
    "GROUP BY FICO_COHORT\n",
    "\n",
    "'''"
   ]
  },
  {
   "cell_type": "code",
   "execution_count": 15,
   "metadata": {},
   "outputs": [
    {
     "data": {
      "text/html": [
       "<div>\n",
       "<style scoped>\n",
       "    .dataframe tbody tr th:only-of-type {\n",
       "        vertical-align: middle;\n",
       "    }\n",
       "\n",
       "    .dataframe tbody tr th {\n",
       "        vertical-align: top;\n",
       "    }\n",
       "\n",
       "    .dataframe thead th {\n",
       "        text-align: right;\n",
       "    }\n",
       "</style>\n",
       "<table border=\"1\" class=\"dataframe\">\n",
       "  <thead>\n",
       "    <tr style=\"text-align: right;\">\n",
       "      <th></th>\n",
       "      <th>&lt;=85</th>\n",
       "      <th>&gt;85% and &lt;=90%</th>\n",
       "      <th>&gt;90% and &lt;=95%</th>\n",
       "      <th>&gt;95%</th>\n",
       "    </tr>\n",
       "    <tr>\n",
       "      <th>FICO_COHORT</th>\n",
       "      <th></th>\n",
       "      <th></th>\n",
       "      <th></th>\n",
       "      <th></th>\n",
       "    </tr>\n",
       "  </thead>\n",
       "  <tbody>\n",
       "    <tr>\n",
       "      <th>0 - 600</th>\n",
       "      <td>0</td>\n",
       "      <td>247050</td>\n",
       "      <td>0</td>\n",
       "      <td>0</td>\n",
       "    </tr>\n",
       "    <tr>\n",
       "      <th>600-699</th>\n",
       "      <td>3260490</td>\n",
       "      <td>14606019</td>\n",
       "      <td>14598016</td>\n",
       "      <td>629990</td>\n",
       "    </tr>\n",
       "    <tr>\n",
       "      <th>700-799</th>\n",
       "      <td>60413630</td>\n",
       "      <td>149979009</td>\n",
       "      <td>135188314</td>\n",
       "      <td>5359114</td>\n",
       "    </tr>\n",
       "    <tr>\n",
       "      <th>800+</th>\n",
       "      <td>13377034</td>\n",
       "      <td>29368087</td>\n",
       "      <td>16979121</td>\n",
       "      <td>1444573</td>\n",
       "    </tr>\n",
       "  </tbody>\n",
       "</table>\n",
       "</div>"
      ],
      "text/plain": [
       "                 <=85  >85% and <=90%  >90% and <=95%     >95%\n",
       "FICO_COHORT                                                   \n",
       "0 - 600             0          247050               0        0\n",
       "600-699       3260490        14606019        14598016   629990\n",
       "700-799      60413630       149979009       135188314  5359114\n",
       "800+         13377034        29368087        16979121  1444573"
      ]
     },
     "execution_count": 15,
     "metadata": {},
     "output_type": "execute_result"
    }
   ],
   "source": [
    "crosstab = pd.read_sql_query(sql_query, con=engine).set_index('FICO_COHORT')\n",
    "crosstab"
   ]
  },
  {
   "cell_type": "code",
   "execution_count": 16,
   "metadata": {},
   "outputs": [
    {
     "data": {
      "text/plain": [
       "<matplotlib.axes._subplots.AxesSubplot at 0x2654f3ca7c8>"
      ]
     },
     "execution_count": 16,
     "metadata": {},
     "output_type": "execute_result"
    },
    {
     "data": {
      "image/png": "[encoded data removed]",
      "text/plain": [
       "<Figure size 432x288 with 1 Axes>"
      ]
     },
     "metadata": {
      "needs_background": "light"
     },
     "output_type": "display_data"
    }
   ],
   "source": [
    "crosstab.plot.bar(ylabel='Unpaid Principal Balance (millions)', xlabel = 'LTV Cohort within Fico Cohort', sort_columns=True)"
   ]
  },
  {
   "cell_type": "code",
   "execution_count": null,
   "metadata": {},
   "outputs": [],
   "source": []
  },
  {
   "cell_type": "code",
   "execution_count": null,
   "metadata": {},
   "outputs": [],
   "source": []
  }
 ],
 "metadata": {
  "kernelspec": {
   "display_name": "Python 3",
   "language": "python",
   "name": "python3"
  },
  "language_info": {
   "codemirror_mode": {
    "name": "ipython",
    "version": 3
   },
   "file_extension": ".py",
   "mimetype": "text/x-python",
   "name": "python",
   "nbconvert_exporter": "python",
   "pygments_lexer": "ipython3",
   "version": "3.7.5"
  }
 },
 "nbformat": 4,
 "nbformat_minor": 2
}
